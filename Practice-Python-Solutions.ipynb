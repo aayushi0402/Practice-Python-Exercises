{
 "cells": [
  {
   "cell_type": "markdown",
   "metadata": {},
   "source": [
    "### Problem 1\n",
    "Create a program that asks the user to enter their name and their age. Print out a message addressed to them that tells them the year that they will turn 100 years old."
   ]
  },
  {
   "cell_type": "code",
   "execution_count": 12,
   "metadata": {},
   "outputs": [
    {
     "name": "stdout",
     "output_type": "stream",
     "text": [
      "Enter your name: Aayushi\n",
      "Enter your age: 20\n",
      "You will turn 100 years old in the year:  2098\n"
     ]
    }
   ],
   "source": [
    "import datetime\n",
    "name = input(\"Enter your name: \")\n",
    "age = int(input(\"Enter your age: \"))\n",
    "now = datetime.datetime.now()\n",
    "print(\"You will turn 100 years old in the year: \", now.year +(100-age))\n",
    "\n"
   ]
  },
  {
   "cell_type": "markdown",
   "metadata": {},
   "source": [
    "### Problem 2\n",
    "Ask the user for a number. Depending on whether the number is even or odd, print out an appropriate message to the user."
   ]
  },
  {
   "cell_type": "code",
   "execution_count": 14,
   "metadata": {},
   "outputs": [
    {
     "name": "stdout",
     "output_type": "stream",
     "text": [
      "Enter a number: 96\n",
      "How odd, the number is even!\n"
     ]
    }
   ],
   "source": [
    "number = int(input(\"Enter a number: \"))\n",
    "if number%2==0:\n",
    "    print(\"How odd, the number is even!\")\n",
    "else:\n",
    "    print(\"Not so even. The number is odd!\")"
   ]
  },
  {
   "cell_type": "markdown",
   "metadata": {},
   "source": [
    "### Problem 3\n",
    "Take a list, say for example this one:\n",
    "\n",
    "  a = [1, 1, 2, 3, 5, 8, 13, 21, 34, 55, 89]\n",
    "and write a program that prints out all the elements of the list that are less than 5.\n",
    "\n",
    "Extras:\n",
    "1.Instead of printing the elements one by one, make a new list that has all the elements less than 5 from this list in it and print out this new list.\n",
    "\n",
    "2.Write this in one line of Python.\n",
    "\n",
    "3.Ask the user for a number and return a list that contains only elements from the original list a that are smaller than that number given by the user.\n"
   ]
  },
  {
   "cell_type": "code",
   "execution_count": 16,
   "metadata": {},
   "outputs": [
    {
     "name": "stdout",
     "output_type": "stream",
     "text": [
      "1\n",
      "1\n",
      "2\n",
      "3\n"
     ]
    }
   ],
   "source": [
    "list1=[1,1,2,3,5,8,13,21,34,55,89]\n",
    "for number in list1:\n",
    "    if number < 5:\n",
    "        print(number)\n",
    "    "
   ]
  },
  {
   "cell_type": "code",
   "execution_count": 17,
   "metadata": {},
   "outputs": [
    {
     "name": "stdout",
     "output_type": "stream",
     "text": [
      "[1, 1, 2, 3]\n"
     ]
    }
   ],
   "source": [
    "#Extras solution 1\n",
    "new_list=[]\n",
    "for number in list1:\n",
    "    if number < 5:\n",
    "        new_list.append(number)\n",
    "print(new_list)"
   ]
  },
  {
   "cell_type": "code",
   "execution_count": 22,
   "metadata": {},
   "outputs": [
    {
     "data": {
      "text/plain": [
       "[1, 1, 2, 3]"
      ]
     },
     "execution_count": 22,
     "metadata": {},
     "output_type": "execute_result"
    }
   ],
   "source": [
    "#Extras solution 2\n",
    "[number for number in list1 if number < 5]"
   ]
  },
  {
   "cell_type": "code",
   "execution_count": 23,
   "metadata": {},
   "outputs": [
    {
     "name": "stdout",
     "output_type": "stream",
     "text": [
      "Enter a number to be compared with from the list: 50\n",
      "[1, 1, 2, 3, 5, 8, 13, 21, 34]\n"
     ]
    }
   ],
   "source": [
    "#Extras solution 3\n",
    "user_num=int(input(\"Enter a number to be compared with from the list: \"))\n",
    "number_list=[]\n",
    "for number in list1:\n",
    "    if number < user_num:\n",
    "        number_list.append(number)\n",
    "print(number_list)\n",
    "        "
   ]
  },
  {
   "cell_type": "markdown",
   "metadata": {},
   "source": [
    "### Problem 4\n",
    "Create a program that asks the user for a number and then prints out a list of all the divisors of that number. (If you don’t know what a divisor is, it is a number that divides evenly into another number. For example, 13 is a divisor of 26 because 26 / 13 has no remainder.)"
   ]
  },
  {
   "cell_type": "code",
   "execution_count": 29,
   "metadata": {},
   "outputs": [
    {
     "name": "stdout",
     "output_type": "stream",
     "text": [
      "Enter a number: 28\n",
      "1\n",
      "2\n",
      "4\n",
      "7\n",
      "14\n",
      "28\n"
     ]
    }
   ],
   "source": [
    "number = int(input(\"Enter a number: \"))\n",
    "for divisor in range(1,number+1):\n",
    "    if number%divisor==0:\n",
    "        print(divisor)\n",
    "        "
   ]
  },
  {
   "cell_type": "markdown",
   "metadata": {},
   "source": [
    "### Problem 5\n",
    "Take two lists, say for example these two:\n",
    "\n",
    "  a = [1, 1, 2, 3, 5, 8, 13, 21, 34, 55, 89] and\n",
    " \n",
    "  b = [1, 2, 3, 4, 5, 6, 7, 8, 9, 10, 11, 12, 13]\n",
    "and write a program that returns a list that contains only the elements that are common between the lists (without duplicates). Make sure your program works on two lists of different sizes.\n",
    "\n",
    "Extras:\n",
    "\n",
    "1.Randomly generate two lists to test this\n",
    "\n",
    "2.Write this in one line of Python"
   ]
  },
  {
   "cell_type": "code",
   "execution_count": 71,
   "metadata": {},
   "outputs": [
    {
     "name": "stdout",
     "output_type": "stream",
     "text": [
      "[1, 2, 3, 5, 8, 13]\n"
     ]
    }
   ],
   "source": [
    "list_a = [1,1,2,3,5,8,13,21,34,55,89]\n",
    "list_b = [1,2,3,4,5,6,7,8,9,10,11,12,13]\n",
    "common_nums = []\n",
    "for number in list_a:\n",
    "    if number in list_b and number not in common_nums:\n",
    "        common_nums.append(number)\n",
    "print(common_nums)"
   ]
  },
  {
   "cell_type": "code",
   "execution_count": 66,
   "metadata": {},
   "outputs": [
    {
     "name": "stdout",
     "output_type": "stream",
     "text": [
      "[48, 97, 65, 81, 70, 27, 44, 79, 91, 3]\n",
      "[24, 11, 45, 72, 97, 1, 71, 77, 55, 41, 91, 44, 15, 94, 73]\n",
      "[97, 91, 44]\n"
     ]
    }
   ],
   "source": [
    "#Extras solution 1\n",
    "import random\n",
    "list_1 = random.sample(range(0,100),10)\n",
    "list_2 = random.sample(range(0,100),15)\n",
    "common = []\n",
    "print(list_1)\n",
    "print(list_2)\n",
    "for number in list_2:\n",
    "    if number in list_1 and number not in common:\n",
    "        common.append(number)\n",
    "print(common)"
   ]
  },
  {
   "cell_type": "code",
   "execution_count": 80,
   "metadata": {},
   "outputs": [
    {
     "data": {
      "text/plain": [
       "[97, 44, 15, 91, 94]"
      ]
     },
     "execution_count": 80,
     "metadata": {},
     "output_type": "execute_result"
    }
   ],
   "source": [
    "#Extras solution 2\n",
    "list_1=[48, 97, 65, 81, 70, 27, 44, 79, 91, 3, 94,15]\n",
    "list_2=[24, 11, 45, 72, 97, 1, 71, 77, 55, 41, 91, 44, 15, 94, 73,94]\n",
    "list(set([i for i in list_2 if i in list_1]))\n"
   ]
  },
  {
   "cell_type": "markdown",
   "metadata": {},
   "source": [
    "### Problem 6\n",
    "Ask the user for a string and print out whether this string is a palindrome or not. (A palindrome is a string that reads the same forwards and backwards.)"
   ]
  },
  {
   "cell_type": "code",
   "execution_count": 88,
   "metadata": {},
   "outputs": [
    {
     "name": "stdout",
     "output_type": "stream",
     "text": [
      "Enter a string: tattattat\n",
      "tattattat  is a palindrome.\n"
     ]
    }
   ],
   "source": [
    "input_string = str(input(\"Enter a string: \"))\n",
    "reverse = \"\"\n",
    "for letter in input_string:\n",
    "    reverse = letter+reverse\n",
    "if input_string == reverse:\n",
    "    print(input_string,\" is a palindrome.\")\n",
    "else:\n",
    "    print(input_string,\" is not a palindrome.\")\n"
   ]
  },
  {
   "cell_type": "markdown",
   "metadata": {},
   "source": [
    "### Problem 7\n",
    "Let’s say I give you a list saved in a variable: a = [1, 4, 9, 16, 25, 36, 49, 64, 81, 100]. Write one line of Python that takes this list a and makes a new list that has only the even elements of this list in it using list comprehensions.\n"
   ]
  },
  {
   "cell_type": "code",
   "execution_count": 1,
   "metadata": {},
   "outputs": [
    {
     "data": {
      "text/plain": [
       "[4, 16, 36, 64, 100]"
      ]
     },
     "execution_count": 1,
     "metadata": {},
     "output_type": "execute_result"
    }
   ],
   "source": [
    "a = [1,4,9,16,25,36,49,64,81,100]\n",
    "[i for i in a if i%2==0]"
   ]
  },
  {
   "cell_type": "markdown",
   "metadata": {},
   "source": [
    "### Problem 8\n",
    "Make a two-player Rock-Paper-Scissors game. (Hint: Ask for player plays (using input), compare them, print out a message of congratulations to the winner, and ask if the players want to start a new game)\n",
    "\n",
    "Remember the rules:\n",
    "Rock beats scissors,\n",
    "scissors beats paper,\n",
    "paper beats rock."
   ]
  },
  {
   "cell_type": "code",
   "execution_count": 1,
   "metadata": {},
   "outputs": [
    {
     "name": "stdout",
     "output_type": "stream",
     "text": [
      "Player 1: Rock,Paper or Scissor?Rock\n",
      "Player 2: Rock,Paper or Scissor?Paper\n",
      "Congratulations, Player 2 You have won the game.\n",
      "Do you want to play again?y\n",
      "Player 1: Rock,Paper or Scissor?Rock\n",
      "Player 2: Rock,Paper or Scissor?Paper\n",
      "Congratulations, Player 2 You have won the game.\n",
      "Do you want to play again?n\n"
     ]
    }
   ],
   "source": [
    "while True:\n",
    "    player1 = str(input(\"Player 1: Rock,Paper or Scissor?\"))\n",
    "    player2 = str(input(\"Player 2: Rock,Paper or Scissor?\"))\n",
    "    if player1 == player2:\n",
    "        print(\"It's a draw\")\n",
    "    elif (player1 == \"Rock\" and player2 == \"Scissor\") or (player1 == \"Scissor\" and player2 == \"Paper\") or (player1 == \"Paper\" and player2 == \"Rock\"):\n",
    "        winner=\"Player 1\"\n",
    "    else:\n",
    "        winner=\"Player 2\"\n",
    "    print(\"Congratulations,\", winner,\"You have won the game.\")\n",
    "    ans = input(\"Do you want to play again?\")\n",
    "    if ans == 'Y' or ans == 'y':\n",
    "        continue\n",
    "    else:\n",
    "        break\n",
    "        \n",
    "    \n"
   ]
  },
  {
   "cell_type": "markdown",
   "metadata": {},
   "source": [
    "### Problem 9\n",
    "Generate a random number between 1 and 9 (including 1 and 9). Ask the user to guess the number, then tell them whether they guessed too low, too high, or exactly right. (Hint: remember to use the user input lessons from the very first exercise)\n",
    "\n",
    "Extras:\n",
    "1.Keep the game going until the user types “exit”.\n",
    "2.Keep track of how many guesses the user has taken, and when the game ends, print this out.\n"
   ]
  },
  {
   "cell_type": "code",
   "execution_count": 3,
   "metadata": {},
   "outputs": [
    {
     "name": "stdout",
     "output_type": "stream",
     "text": [
      "Guess the number!8\n",
      "Too High\n",
      "Guess the number!1\n",
      "Too Low\n",
      "Guess the number!9\n",
      "Wrong. Try Again!\n",
      "Guess the number!7\n",
      "Too High\n",
      "Guess the number!exit\n",
      "The number of guesses is 4\n"
     ]
    }
   ],
   "source": [
    "import random\n",
    "count=0\n",
    "while True:\n",
    "    random_num=random.sample((1,10),1)\n",
    "    a = random_num.pop()\n",
    "    user_guess=input(\"Guess the number!\")\n",
    "    if user_guess == \"exit\":\n",
    "        break\n",
    "    elif int(user_guess) == a:\n",
    "        print(\"Right\")\n",
    "    elif int(user_guess) >= 6 and a <= 4:\n",
    "        print(\"Too High\")\n",
    "    elif int(user_guess) <= 4 and a >= 5:\n",
    "        print(\"Too Low\")\n",
    "    else:\n",
    "        print(\"Wrong. Try Again!\")\n",
    "    count = count + 1\n",
    "print(\"The number of guesses is\", count)\n",
    "        \n",
    "        "
   ]
  },
  {
   "cell_type": "markdown",
   "metadata": {},
   "source": [
    "### Problem 11\n",
    "Ask the user for a number and determine whether the number is prime or not. (For those who have forgotten, a prime number is a number that has no divisors.). You can (and should!) use your answer to Exercise 4 to help you. Take this opportunity to practice using functions.\n",
    "            \n"
   ]
  },
  {
   "cell_type": "code",
   "execution_count": 26,
   "metadata": {},
   "outputs": [
    {
     "name": "stdout",
     "output_type": "stream",
     "text": [
      "Number is prime\n",
      "Not a prime number\n"
     ]
    }
   ],
   "source": [
    "def check_prime(number):\n",
    "    if number > 1:\n",
    "        for i in range(2, number):\n",
    "            if number % i == 0:\n",
    "                print(\"Not a prime number\")\n",
    "                break\n",
    "            else:\n",
    "                print(\"Number is prime\")\n",
    "                break\n",
    "    else:\n",
    "        print(\"Number is not prime\")\n",
    "\n",
    "check_prime(11)\n",
    "check_prime(56)\n",
    "check_prime(2)"
   ]
  },
  {
   "cell_type": "markdown",
   "metadata": {},
   "source": [
    "### Problem 12\n",
    "Write a program that takes a list of numbers (for example, a = [5, 10, 15, 20, 25]) and makes a new list of only the first and last elements of the given list. "
   ]
  },
  {
   "cell_type": "code",
   "execution_count": 39,
   "metadata": {},
   "outputs": [
    {
     "data": {
      "text/plain": [
       "[79, 67]"
      ]
     },
     "execution_count": 39,
     "metadata": {},
     "output_type": "execute_result"
    }
   ],
   "source": [
    "def first_last(my_list):\n",
    "    new_list = []\n",
    "    new_list.append(my_list[0])\n",
    "    new_list.append(my_list[-1])\n",
    "    return new_list\n",
    "list12 = [79,2,3,4,5,6,7,8,9,67]\n",
    "first_last(list12)"
   ]
  },
  {
   "cell_type": "markdown",
   "metadata": {},
   "source": [
    "### Problem 13\n",
    "Write a program that asks the user how many Fibonnaci numbers to generate and then generates them. Take this opportunity to think about how you can use functions. Make sure to ask the user to enter the number of numbers in the sequence to generate.(Hint: The Fibonnaci seqence is a sequence of numbers where the next number in the sequence is the sum of the previous two numbers in the sequence. The sequence looks like this: 1, 1, 2, 3, 5, 8, 13, …)"
   ]
  },
  {
   "cell_type": "code",
   "execution_count": 45,
   "metadata": {},
   "outputs": [
    {
     "name": "stdout",
     "output_type": "stream",
     "text": [
      "0\n",
      "1\n",
      "3\n",
      "6\n",
      "10\n"
     ]
    }
   ],
   "source": [
    "def fibo_nums(number):\n",
    "    j = 0\n",
    "    for i in range(0,number):\n",
    "        j = j+i\n",
    "        print(j)\n",
    "fibo_nums(5)"
   ]
  },
  {
   "cell_type": "markdown",
   "metadata": {},
   "source": [
    "### Problem 14\n",
    "Write a program (function!) that takes a list and returns a new list that contains all the elements of the first list minus all the duplicates.\n",
    "\n",
    "Extras:\n",
    "\n",
    "1.Write two different functions to do this - one using a loop and constructing a list, and another using sets.\n",
    "\n",
    "2.Go back and do Exercise 5 using sets, and write the solution for that in a different function."
   ]
  },
  {
   "cell_type": "code",
   "execution_count": 54,
   "metadata": {},
   "outputs": [
    {
     "data": {
      "text/plain": [
       "[0, 1, 2, 3, 4, 5, 7, 8, 9, 55, 88]"
      ]
     },
     "execution_count": 54,
     "metadata": {},
     "output_type": "execute_result"
    }
   ],
   "source": [
    "# Extras solution 1: Using loops\n",
    "def rm_dupli(mylist):\n",
    "    new_list = []\n",
    "    for i in mylist:\n",
    "        if i not in new_list:\n",
    "            new_list.append(i)\n",
    "            new_list.sort()\n",
    "    return new_list\n",
    "list123 = [2,4,5,88,3,7,1,7,3,0,8,5,9,88,8,9,55,55]\n",
    "rm_dupli(list123) "
   ]
  },
  {
   "cell_type": "code",
   "execution_count": 55,
   "metadata": {},
   "outputs": [
    {
     "data": {
      "text/plain": [
       "[0, 1, 2, 3, 4, 5, 7, 8, 9, 55, 88]"
      ]
     },
     "execution_count": 55,
     "metadata": {},
     "output_type": "execute_result"
    }
   ],
   "source": [
    "#Extras solution 1: Using Sets\n",
    "def rm_dupli(mylist):\n",
    "    return list(set(mylist))\n",
    "list123 = [2,4,5,88,3,7,1,7,3,0,8,5,9,88,8,9,55,55]\n",
    "rm_dupli(list123)"
   ]
  },
  {
   "cell_type": "code",
   "execution_count": 58,
   "metadata": {},
   "outputs": [
    {
     "data": {
      "text/plain": [
       "[1, 2, 3, 5, 8, 13]"
      ]
     },
     "execution_count": 58,
     "metadata": {},
     "output_type": "execute_result"
    }
   ],
   "source": [
    "#Extras solution 2\n",
    "def common_ele(list1,list2):\n",
    "    s1 = set(list1)\n",
    "    s2 = set(list2)\n",
    "    new = s1.intersection(s2)\n",
    "    return list(new)\n",
    "\n",
    "a = [1, 1, 2, 3, 5, 8, 13, 21, 34, 55, 89]\n",
    "b = [1, 2, 3, 4, 5, 6, 7, 8, 9, 10, 11, 12, 13]\n",
    "common_ele(a,b)"
   ]
  },
  {
   "cell_type": "markdown",
   "metadata": {},
   "source": [
    "### Problem 15"
   ]
  },
  {
   "cell_type": "markdown",
   "metadata": {},
   "source": [
    "Write a program (using functions!) that asks the user for a long string containing multiple words. Print back to the user the same string, except with the words in backwards order. For example, say I type the string:\n",
    "\n",
    "  My name is Michele\n",
    "Then I would see the string:\n",
    "\n",
    "  Michele is name My\n",
    "shown back to me."
   ]
  },
  {
   "cell_type": "code",
   "execution_count": 38,
   "metadata": {},
   "outputs": [
    {
     "name": "stdout",
     "output_type": "stream",
     "text": [
      "Enter a string!\n",
      "My name is Michele\n",
      "Michele is name My\n"
     ]
    }
   ],
   "source": [
    "user_string = input(\"Enter a string!\\n\")\n",
    "split = user_string.split()\n",
    "b = split[::-1]\n",
    "rev = ''\n",
    "for i in b:\n",
    "    rev = rev + \" \" + i \n",
    "print(rev.strip())  \n",
    "\n"
   ]
  },
  {
   "cell_type": "code",
   "execution_count": null,
   "metadata": {},
   "outputs": [],
   "source": []
  }
 ],
 "metadata": {
  "kernelspec": {
   "display_name": "Python 3",
   "language": "python",
   "name": "python3"
  },
  "language_info": {
   "codemirror_mode": {
    "name": "ipython",
    "version": 3
   },
   "file_extension": ".py",
   "mimetype": "text/x-python",
   "name": "python",
   "nbconvert_exporter": "python",
   "pygments_lexer": "ipython3",
   "version": "3.7.0"
  }
 },
 "nbformat": 4,
 "nbformat_minor": 2
}
